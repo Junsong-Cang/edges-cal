{
 "cells": [
  {
   "cell_type": "markdown",
   "metadata": {},
   "source": [
    "# Calibration Diagnostic"
   ]
  },
  {
   "cell_type": "code",
   "execution_count": 1,
   "metadata": {
    "tags": [
     "parameters"
    ]
   },
   "outputs": [],
   "source": [
    "# These are the defaults for the run. They are overwritten on command-line.\n",
    "observation = ''\n",
    "wterms = 7\n",
    "cterms = 7"
   ]
  },
  {
   "cell_type": "code",
   "execution_count": 12,
   "metadata": {},
   "outputs": [],
   "source": [
    "from datetime import datetime\n",
    "import edges_io\n",
    "import edges_cal\n",
    "from pathlib import Path"
   ]
  },
  {
   "cell_type": "markdown",
   "metadata": {},
   "source": [
    "This document shows the results of calibration for a particular calibration observation (see below). "
   ]
  },
  {
   "cell_type": "code",
   "execution_count": 13,
   "metadata": {},
   "outputs": [
    {
     "name": "stdout",
     "output_type": "stream",
     "text": [
      "Date Run:  2020-12-01 14:03:51.541884\n",
      "Version of edges-io: 0.2.0.post0.dev32+g565c916\n",
      "Version of edges-cal: 0.3.0.post0.dev55+g880a997\n",
      "Observation Location:  /home/steven/Documents/Projects/radio/EOR/Edges/edges-cal/src/edges_cal/notebooks\n"
     ]
    }
   ],
   "source": [
    "print(\"Date Run: \", datetime.now())\n",
    "print(\"Version of edges-io:\", edges_io.__version__)\n",
    "print(\"Version of edges-cal:\", edges_cal.__version__)\n",
    "\n",
    "obspath = Path(observation).absolute()\n",
    "print(\"Observation Location: \", obspath)"
   ]
  },
  {
   "cell_type": "code",
   "execution_count": null,
   "metadata": {},
   "outputs": [],
   "source": []
  }
 ],
 "metadata": {
  "celltoolbar": "Tags",
  "kernelspec": {
   "display_name": "Python [conda env:edges]",
   "language": "python",
   "name": "conda-env-edges-py"
  },
  "language_info": {
   "codemirror_mode": {
    "name": "ipython",
    "version": 3
   },
   "file_extension": ".py",
   "mimetype": "text/x-python",
   "name": "python",
   "nbconvert_exporter": "python",
   "pygments_lexer": "ipython3",
   "version": "3.7.3"
  }
 },
 "nbformat": 4,
 "nbformat_minor": 4
}

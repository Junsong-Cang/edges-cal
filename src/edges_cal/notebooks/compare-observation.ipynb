{
 "cells": [
  {
   "cell_type": "markdown",
   "metadata": {},
   "source": [
    "# Calibration Diagnostic"
   ]
  },
  {
   "cell_type": "code",
   "execution_count": null,
   "metadata": {
    "ExecuteTime": {
     "end_time": "2020-12-14T21:25:11.265371Z",
     "start_time": "2020-12-14T21:25:11.251473Z"
    }
   },
   "outputs": [],
   "source": [
    "obs_config = dict(\n",
    "    wterms = 7,\n",
    "    cterms = 7,\n",
    "    f_low = 40,\n",
    "    f_high = None,\n",
    "    run_num = None,\n",
    "    repeat_num = None,\n",
    "    resistance_f = 50.009,\n",
    "    load_kwargs = None,\n",
    "    s11_kwargs = None,\n",
    "    load_spectra = None,\n",
    "    load_s11s = None,\n",
    "    compile_from_def = True,\n",
    "    include_previous = False,\n",
    ")\n",
    "cmp_config = dict(\n",
    "    wterms = 7,\n",
    "    cterms = 7,\n",
    "    run_num = None,\n",
    "    repeat_num = None,\n",
    "    resistance_f = 50.009,\n",
    "    load_kwargs = None,\n",
    "    s11_kwargs = None,\n",
    "    load_spectra = None,\n",
    "    load_s11s = None,\n",
    "    compile_from_def = True,\n",
    "    include_previous = False,\n",
    ")"
   ]
  },
  {
   "cell_type": "code",
   "execution_count": null,
   "metadata": {
    "ExecuteTime": {
     "end_time": "2020-12-14T21:25:13.110824Z",
     "start_time": "2020-12-14T21:25:13.104191Z"
    },
    "tags": [
     "parameters"
    ]
   },
   "outputs": [],
   "source": [
    "# These are the defaults for the run. They are overwritten on command-line.\n",
    "observation = '/data5/edges/data/CalibrationObservations/Receiver01/Receiver01_25C_2019_10_01_040_to_200MHz'\n",
    "cmp_observation = '/data5/edges/data/CalibrationObservations/Receiver01/Receiver01_25C_2019_11_26_040_to_200MHz'\n",
    "\n",
    "obs_config_ = {}  # Need to do it this way, otherwise they get fully over-ridden\n",
    "cmp_config_ = {}"
   ]
  },
  {
   "cell_type": "code",
   "execution_count": null,
   "metadata": {
    "ExecuteTime": {
     "end_time": "2020-12-14T21:25:13.917261Z",
     "start_time": "2020-12-14T21:25:13.911654Z"
    }
   },
   "outputs": [],
   "source": [
    "obs_config.update(obs_config_)\n",
    "cmp_config.update(cmp_config_)"
   ]
  },
  {
   "cell_type": "code",
   "execution_count": null,
   "metadata": {
    "ExecuteTime": {
     "end_time": "2020-12-14T21:25:14.994164Z",
     "start_time": "2020-12-14T21:25:14.988225Z"
    }
   },
   "outputs": [],
   "source": [
    "cmp_config['f_low']=obs_config['f_low']\n",
    "cmp_config['f_high']=obs_config['f_high']"
   ]
  },
  {
   "cell_type": "code",
   "execution_count": null,
   "metadata": {
    "ExecuteTime": {
     "end_time": "2020-12-14T21:28:27.632293Z",
     "start_time": "2020-12-14T21:28:27.614323Z"
    }
   },
   "outputs": [],
   "source": [
    "%matplotlib inline\n",
    "import matplotlib.pyplot as plt\n",
    "from datetime import datetime\n",
    "import edges_io as eio\n",
    "import edges_cal as ec\n",
    "from pathlib import Path\n",
    "import yaml\n",
    "import warnings\n",
    "from matplotlib.lines import Line2D\n",
    "from beautifultable import BeautifulTable"
   ]
  },
  {
   "cell_type": "markdown",
   "metadata": {},
   "source": [
    "This document compares two observations:"
   ]
  },
  {
   "cell_type": "code",
   "execution_count": null,
   "metadata": {
    "ExecuteTime": {
     "end_time": "2020-12-14T21:25:59.678988Z",
     "start_time": "2020-12-14T21:25:59.663409Z"
    }
   },
   "outputs": [],
   "source": [
    "obspath = Path(observation).absolute()\n",
    "cmppath = Path(cmp_observation).absolute()\n",
    "print(\"Primary Location   : \", obspath)\n",
    "print(\"Comparison Location: \", cmppath)\n",
    "print()\n",
    "\n",
    "print(\"Date Run: \", datetime.now())\n",
    "print(\"Version of edges-io:\", eio.__version__)\n",
    "print(\"Version of edges-cal:\", ec.__version__)"
   ]
  },
  {
   "cell_type": "code",
   "execution_count": null,
   "metadata": {
    "ExecuteTime": {
     "end_time": "2020-12-14T21:26:11.159584Z",
     "start_time": "2020-12-14T21:26:10.034310Z"
    }
   },
   "outputs": [],
   "source": [
    "calobs = ec.CalibrationObservation(obspath, **obs_config)\n",
    "calobs_cmp = ec.CalibrationObservation(cmppath, **cmp_config)"
   ]
  },
  {
   "cell_type": "code",
   "execution_count": null,
   "metadata": {
    "ExecuteTime": {
     "end_time": "2020-12-14T21:30:13.244664Z",
     "start_time": "2020-12-14T21:30:12.926091Z"
    }
   },
   "outputs": [],
   "source": [
    "simnames = calobs.io.simulator_names.intersection(calobs_cmp.io.simulator_names)\n",
    "antsims = {name: calobs.new_load(name) for name in simnames}\n",
    "antsims_cmp = {name: calobs_cmp.new_load(name) for name in simnames}"
   ]
  },
  {
   "cell_type": "markdown",
   "metadata": {},
   "source": [
    "## Observation Metadata"
   ]
  },
  {
   "cell_type": "markdown",
   "metadata": {},
   "source": [
    "The following metadata fully defines this calibration for this version of `edges-cal`:"
   ]
  },
  {
   "cell_type": "code",
   "execution_count": null,
   "metadata": {
    "ExecuteTime": {
     "end_time": "2020-12-14T21:28:58.551937Z",
     "start_time": "2020-12-14T21:28:58.534040Z"
    }
   },
   "outputs": [],
   "source": [
    "def print_summary(calobs, cfg):\n",
    "    if cfg['compile_from_def'] and calobs.path != obspath:\n",
    "        if calobs.io.definition:\n",
    "            print(f\"> Compiled from definition file. Definition:\\n{yaml.dump(calobs.io.definition)}\")\n",
    "        else:\n",
    "            print(\"> Compiled from empty definition file.\")\n",
    "    else:\n",
    "        print(\"> Not compiled from definition file.\")\n",
    "    print()\n",
    "\n",
    "    table = BeautifulTable()\n",
    "    table.rows.append(['wterms', calobs.wterms, 'cterms', calobs.cterms])\n",
    "    table.rows.append(['f_min', f\"{calobs.freq.min:.2f} MHz\", 'f_max', f\"{calobs.freq.max:.2f} MHz\"])\n",
    "    table.rows.append(['LNA Res.', f\"{calobs.lna.resistance} Ohms\", \"Includes Previous?\", str(cfg['include_previous'])])\n",
    "    print(table)\n",
    "    print()\n",
    "\n",
    "    table = BeautifulTable()\n",
    "    table.columns.header = [\n",
    "        'S11 Run', \n",
    "        'Spec/Res. Run', \n",
    "        'S11 Rep.', \n",
    "        'Ignored %', \n",
    "        'Male Res. (Ohms)'\n",
    "    ]\n",
    "    sources = []\n",
    "    for name, source in calobs._loads.items():\n",
    "        sources.append(name)\n",
    "        table.rows.append([\n",
    "            source.reflections.run_num,\n",
    "            source.spectrum.run_num,\n",
    "            calobs.io.s11.repeat_num[name],\n",
    "            source.spectrum.ignore_times_percent,\n",
    "            source.reflections.resistance\n",
    "        ])\n",
    "    table.rows.header = sources\n",
    "    print(table)"
   ]
  },
  {
   "cell_type": "code",
   "execution_count": null,
   "metadata": {
    "ExecuteTime": {
     "end_time": "2020-12-14T21:29:00.202089Z",
     "start_time": "2020-12-14T21:29:00.182619Z"
    }
   },
   "outputs": [],
   "source": [
    "print(\"Primary Observation:\", obspath.name)\n",
    "print(\"=====================\" + '='*len(obspath.name))\n",
    "print_summary(calobs, obs_config)"
   ]
  },
  {
   "cell_type": "code",
   "execution_count": null,
   "metadata": {
    "ExecuteTime": {
     "end_time": "2020-12-14T21:29:03.209598Z",
     "start_time": "2020-12-14T21:29:03.188587Z"
    }
   },
   "outputs": [],
   "source": [
    "print(\"Comparison Observation:\", cmppath.name)\n",
    "print(\"========================\" + '='*len(cmppath.name))\n",
    "print_summary(calobs_cmp, cmp_config)"
   ]
  },
  {
   "cell_type": "code",
   "execution_count": null,
   "metadata": {
    "ExecuteTime": {
     "end_time": "2020-12-14T21:30:52.024786Z",
     "start_time": "2020-12-14T21:30:52.016694Z"
    }
   },
   "outputs": [],
   "source": [
    "print(\"Antenna Simulators available in both observations: \", ', '.join(sorted(simnames)))"
   ]
  },
  {
   "cell_type": "markdown",
   "metadata": {},
   "source": [
    "## Raw Data"
   ]
  },
  {
   "cell_type": "code",
   "execution_count": null,
   "metadata": {
    "ExecuteTime": {
     "end_time": "2020-12-14T22:00:47.566983Z",
     "start_time": "2020-12-14T22:00:39.096651Z"
    }
   },
   "outputs": [],
   "source": [
    "fig, ax = plt.subplots(\n",
    "    3,4,figsize=(16,8), \n",
    "    #gridspec_kw={\"hspace\":0.05, 'wspace':0.05}\n",
    ")\n",
    "\n",
    "for i, (name, load) in enumerate(calobs._loads.items()):\n",
    "    ax[0,i].plot(load.spectrum.thermistor_temp, label='Primary')\n",
    "    ax[0,i].plot(calobs_cmp._loads[name].spectrum.thermistor_temp, label='Comparison')\n",
    "    \n",
    "    ax[0,i].set_title(name.capitalize(), fontsize=15)\n",
    "    ax[0,i].set_xlabel(\"Time\")\n",
    "    \n",
    "    load.spectrum.plot(fig=fig, ax=ax[1,i],ylabel=False)\n",
    "    calobs_cmp._loads[name].spectrum.plot(fig=fig, ax=ax[1,i],ylabel=False)\n",
    "    \n",
    "    calobs.plot_calibrated_temp(load, ax=ax[2,i],ylabel=False)\n",
    "    calobs.plot_calibrated_temp(calobs_cmp._loads[name], ax=ax[2,i],ylabel=False)\n",
    "    \n",
    "ax[0,0].set_ylabel(\"Thermistor Temp (K)\")\n",
    "ax[1,0].set_ylabel(\"Uncalibrated Temp (K)\")\n",
    "ax[2,0].set_ylabel(\"Calibrated Temp (K)\")\n",
    "ax[0,1].legend()\n",
    "plt.tight_layout()"
   ]
  },
  {
   "cell_type": "code",
   "execution_count": null,
   "metadata": {
    "ExecuteTime": {
     "end_time": "2020-12-14T22:06:40.237111Z",
     "start_time": "2020-12-14T22:06:35.979998Z"
    }
   },
   "outputs": [],
   "source": [
    "fig, ax = plt.subplots(\n",
    "    3, len(antsims),figsize=(16,8), \n",
    "    #gridspec_kw={\"hspace\":0.05, 'wspace':0.05}\n",
    ")\n",
    "\n",
    "for i, (name, load) in enumerate(antsims.items()):\n",
    "    ax[0,i].plot(load.spectrum.thermistor_temp, label='Primary')\n",
    "    ax[0,i].plot(antsims_cmp[name].spectrum.thermistor_temp, label='Comparison')\n",
    "    \n",
    "    ax[0,i].set_title(name.capitalize(), fontsize=15)\n",
    "    ax[0,i].set_xlabel(\"Time\")\n",
    "    \n",
    "    load.spectrum.plot(fig=fig, ax=ax[1,i],ylabel=False)\n",
    "    antsims_cmp[name].spectrum.plot(fig=fig, ax=ax[1,i],ylabel=False)\n",
    "    \n",
    "    calobs.plot_calibrated_temp(load, ax=ax[2,i],ylabel=False)\n",
    "    calobs.plot_calibrated_temp(antsims_cmp[name], ax=ax[2,i],ylabel=False)\n",
    "    \n",
    "ax[0,0].set_ylabel(\"Thermistor Temp (K)\")\n",
    "ax[1,0].set_ylabel(\"Uncalibrated Temp (K)\")\n",
    "ax[2,0].set_ylabel(\"Calibrated Temp (K)\")\n",
    "ax[0,1].legend()\n",
    "plt.tight_layout()"
   ]
  },
  {
   "cell_type": "markdown",
   "metadata": {},
   "source": [
    "## S11"
   ]
  },
  {
   "cell_type": "code",
   "execution_count": null,
   "metadata": {
    "ExecuteTime": {
     "end_time": "2020-12-14T22:04:46.174969Z",
     "start_time": "2020-12-14T22:04:42.951991Z"
    }
   },
   "outputs": [],
   "source": [
    "fig, ax = plt.subplots(4,5, sharex=True, figsize=(16, 7))\n",
    "warnings.filterwarnings(\"ignore\", category=DeprecationWarning)\n",
    "\n",
    "for i, (name, source) in enumerate(calobs._loads.items()):\n",
    "    source.reflections.plot_residuals(fig=fig, ax=ax[:,i], title=False, decade_ticks=False, ylabels=not i, color_abs='C0', color_diff='C0',label='Primary' if not i else None)\n",
    "    calobs_cmp._loads[name].reflections.plot_residuals(fig=fig, ax=ax[:,i], title=False, decade_ticks=False,ylabels=not i, color_abs='C1', color_diff='C1', label='Comparison' if not i else None)\n",
    "    ax[0,i].set_title(name)\n",
    "    \n",
    "calobs.lna.plot_residuals(fig=fig, ax=ax[:,-1], title=False, decade_ticks=False,ylabels=False, color_abs='C0', color_diff='C0')\n",
    "calobs_cmp.lna.plot_residuals(fig=fig, ax=ax[:,-1], title=False, decade_ticks=False,ylabels=False, color_abs='C1', color_diff='C1')\n",
    "\n",
    "ax[0,-1].set_title(\"LNA\");"
   ]
  },
  {
   "cell_type": "code",
   "execution_count": null,
   "metadata": {
    "ExecuteTime": {
     "end_time": "2020-12-14T22:07:25.833018Z",
     "start_time": "2020-12-14T22:07:24.119843Z"
    }
   },
   "outputs": [],
   "source": [
    "fig, ax = plt.subplots(4,len(antsims), sharex=True, figsize=(16, 7))\n",
    "warnings.filterwarnings(\"ignore\", category=DeprecationWarning)\n",
    "\n",
    "for i, (name, source) in enumerate(antsims.items()):\n",
    "    source.reflections.plot_residuals(fig=fig, ax=ax[:,i], title=False, decade_ticks=False, ylabels=not i, color_abs='C0', color_diff='C0',label='Primary' if not i else None)\n",
    "    antsims_cmp[name].reflections.plot_residuals(fig=fig, ax=ax[:,i], title=False, decade_ticks=False,ylabels=not i, color_abs='C1', color_diff='C1', label='Comparison' if not i else None)\n",
    "    ax[0,i].set_title(name)\n",
    "    "
   ]
  },
  {
   "cell_type": "markdown",
   "metadata": {},
   "source": [
    "## Calibration"
   ]
  },
  {
   "cell_type": "code",
   "execution_count": null,
   "metadata": {
    "ExecuteTime": {
     "end_time": "2020-12-09T23:11:09.274617Z",
     "start_time": "2020-12-09T23:11:02.446610Z"
    }
   },
   "outputs": [],
   "source": [
    "fig = calobs.plot_coefficients()\n",
    "ax = fig.axes\n",
    "calobs_cmp.plot_coefficients(fig=fig, ax=ax);\n",
    "lines = [Line2D([0], [0], color=f'C{i}', linewidth=2, linestyle='-') for i in range(2)]\n",
    "labels = ['Primary', 'Comparison']\n",
    "ax[0].legend(lines, labels);"
   ]
  },
  {
   "cell_type": "markdown",
   "metadata": {},
   "source": [
    "## List of All Files Used"
   ]
  },
  {
   "cell_type": "code",
   "execution_count": null,
   "metadata": {
    "ExecuteTime": {
     "end_time": "2020-12-14T22:09:51.262185Z",
     "start_time": "2020-12-14T22:09:51.241970Z"
    }
   },
   "outputs": [],
   "source": [
    "import os\n",
    "def list_files(startpath, filter_list):\n",
    "    for root, dirs, files in os.walk(startpath):\n",
    "        level = root.replace(str(startpath), '').count(os.sep)\n",
    "        indent = ' ' * 4 * (level)\n",
    "        ff = [f for f in files if any(str(x).startswith(str(Path(root)/f)) for x in filter_list)]\n",
    "        dd = [d for d in dirs if any(str(x).startswith(str(Path(root)/d)) for x in filter_list)]\n",
    "        if ff or dd:\n",
    "            print('{}{}/'.format(indent, os.path.basename(root)))\n",
    "        if ff:\n",
    "            subindent = ' ' * 4 * (level + 1)\n",
    "            for f in sorted(ff):\n",
    "                print('{}{}'.format(subindent, f))"
   ]
  },
  {
   "cell_type": "code",
   "execution_count": null,
   "metadata": {
    "ExecuteTime": {
     "end_time": "2020-12-14T22:09:53.123155Z",
     "start_time": "2020-12-14T22:09:53.020698Z"
    }
   },
   "outputs": [],
   "source": [
    "fl = calobs.io.list_of_files[0]\n",
    "print(\"Primary Observation\")\n",
    "print('===================')\n",
    "list_files(Path(fl.joinpath(*fl.parts[:3])), calobs.io.list_of_files)"
   ]
  },
  {
   "cell_type": "code",
   "execution_count": null,
   "metadata": {
    "ExecuteTime": {
     "end_time": "2020-12-14T22:09:56.524222Z",
     "start_time": "2020-12-14T22:09:56.418859Z"
    }
   },
   "outputs": [],
   "source": [
    "fl = calobs_cmp.io.list_of_files[0]\n",
    "print(\"Comparison Observation\")\n",
    "print('======================')\n",
    "list_files(Path(fl.joinpath(*fl.parts[:3])), calobs_cmp.io.list_of_files)"
   ]
  }
 ],
 "metadata": {
  "celltoolbar": "Tags",
  "kernelspec": {
   "display_name": "Python [conda env:edges]",
   "language": "python",
   "name": "conda-env-edges-py"
  },
  "language_info": {
   "codemirror_mode": {
    "name": "ipython",
    "version": 3
   },
   "file_extension": ".py",
   "mimetype": "text/x-python",
   "name": "python",
   "nbconvert_exporter": "python",
   "pygments_lexer": "ipython3",
   "version": "3.7.3"
  },
  "latex_envs": {
   "LaTeX_envs_menu_present": true,
   "autoclose": true,
   "autocomplete": false,
   "bibliofile": "biblio.bib",
   "cite_by": "apalike",
   "current_citInitial": 1,
   "eqLabelWithNumbers": true,
   "eqNumInitial": 1,
   "hotkeys": {
    "equation": "Ctrl-E",
    "itemize": "Ctrl-I"
   },
   "labels_anchors": false,
   "latex_user_defs": false,
   "report_style_numbering": false,
   "user_envs_cfg": false
  },
  "toc": {
   "base_numbering": 1,
   "nav_menu": {},
   "number_sections": true,
   "sideBar": true,
   "skip_h1_title": false,
   "title_cell": "Table of Contents",
   "title_sidebar": "Contents",
   "toc_cell": false,
   "toc_position": {},
   "toc_section_display": true,
   "toc_window_display": true
  }
 },
 "nbformat": 4,
 "nbformat_minor": 4
}
